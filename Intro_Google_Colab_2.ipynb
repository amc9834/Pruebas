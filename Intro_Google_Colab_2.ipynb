{
  "nbformat": 4,
  "nbformat_minor": 0,
  "metadata": {
    "colab": {
      "name": "Intro_Google_Colab.ipynb",
      "provenance": [],
      "include_colab_link": true
    },
    "kernelspec": {
      "name": "python3",
      "display_name": "Python 3"
    }
  },
  "cells": [
    {
      "cell_type": "markdown",
      "metadata": {
        "id": "view-in-github",
        "colab_type": "text"
      },
      "source": [
        "<a href=\"https://colab.research.google.com/github/amc9834/Pruebas/blob/Master/Intro_Google_Colab_2.ipynb\" target=\"_parent\"><img src=\"https://colab.research.google.com/assets/colab-badge.svg\" alt=\"Open In Colab\"/></a>"
      ]
    },
    {
      "cell_type": "markdown",
      "metadata": {
        "id": "vEUFQVzQxTwq"
      },
      "source": [
        "# Introducción a Google Colab\n"
      ]
    },
    {
      "cell_type": "markdown",
      "metadata": {
        "id": "P3uCDGPa5KS4"
      },
      "source": [
        "## Textos"
      ]
    },
    {
      "cell_type": "markdown",
      "metadata": {
        "id": "SkV4cQeDxd9b"
      },
      "source": [
        "En Colab podemos escribir texto plano de esta manera, llamada **Markdown** que es una codificación de texto estilizado muy similar a *Latex* "
      ]
    },
    {
      "cell_type": "code",
      "metadata": {
        "id": "FvdeEVSQyN4q"
      },
      "source": [
        "#O, también podemos escribir texto en una celda de código a modo de comentario como lo haríamos en cualquier editor o en cualquier script"
      ],
      "execution_count": 1,
      "outputs": []
    },
    {
      "cell_type": "markdown",
      "metadata": {
        "id": "w50GNlM4yaAd"
      },
      "source": [
        "La gran diferencia está en los estilos ya que con Markdown, podemos utilizar:\n",
        "* Viñetas o listas \n",
        "\n",
        "* **Texto en Negrilla** \n",
        "\n",
        "* *Texto en Itálica o Cursiva*\n",
        "\n",
        "* ***Texto Cursiva y Negrilla***\n",
        "\n",
        "* $Notación Científica$ \n",
        "\n",
        "* Símbolos: $\\mu$, $\\alpha$, $\\beta$, $\\omega$, $\\Omega$ \n",
        "\n",
        "* Ecuaciones:  $F=m*a$\n",
        "\n",
        "* Ecuaciones Completas y Centradas:\n",
        "\n",
        "$$\n",
        "{ x }_{ 1,2 }=\\frac { -b\\quad \\pm \\quad \\sqrt { { b }^{ 2 }-4ac }}{ 2a } \n",
        "$$\n",
        "\n",
        "---\n",
        "\n"
      ]
    },
    {
      "cell_type": "markdown",
      "metadata": {
        "id": "QRZ9L5lZIYyJ"
      },
      "source": [
        "$$\\frac { x }{ y } =\\int { { (x+3) }^{ 2 }dx } $$"
      ]
    },
    {
      "cell_type": "markdown",
      "metadata": {
        "id": "0dTnmDrd1Ucx"
      },
      "source": [
        "Además, puedo incluso ingresar imágenes:\n",
        "\n",
        "<img src='https://t1.ea.ltmcdn.com/es/images/5/0/7/img_colicos_en_los_caballos_sintomas_y_tratamiento_20705_orig.jpg'>"
      ]
    },
    {
      "cell_type": "markdown",
      "metadata": {
        "id": "W8HL4tRu3lRy"
      },
      "source": [
        "O también puedo poner un link a un sitio externo:\n",
        "\n",
        "[Link Imagen](https://www.hogarmania.com/archivos/201709/conejo-pequeno-668x400x80xX.jpg)"
      ]
    },
    {
      "cell_type": "markdown",
      "metadata": {
        "id": "Rx5x8d3r4qaX"
      },
      "source": [
        "*Opción 2 para imagen:*\n",
        "\n",
        "![Link Imagen](https://www.hogarmania.com/archivos/201709/conejo-pequeno-668x400x80xX.jpg)"
      ]
    },
    {
      "cell_type": "markdown",
      "metadata": {
        "id": "dsMETUSt5Obc"
      },
      "source": [
        "## Código"
      ]
    },
    {
      "cell_type": "markdown",
      "metadata": {
        "id": "YRaFE4Jq5P-Y"
      },
      "source": [
        "En cuanto al código se refiere, puedo correr todo lo que necesite:"
      ]
    },
    {
      "cell_type": "code",
      "metadata": {
        "colab": {
          "base_uri": "https://localhost:8080/"
        },
        "id": "6qmqOBua5VW7",
        "outputId": "4831c8a4-7b10-49e9-8e4a-253d76fe59ff"
      },
      "source": [
        "x = input(\"Ingrese Un Número:\")\n",
        "\n",
        "print(\"\\nEl número ingresado es:\",x)"
      ],
      "execution_count": 2,
      "outputs": [
        {
          "output_type": "stream",
          "text": [
            "Ingrese Un Número:78\n",
            "\n",
            "El número ingresado es: 78\n"
          ],
          "name": "stdout"
        }
      ]
    },
    {
      "cell_type": "markdown",
      "metadata": {
        "id": "qMf4IU1Q5Y9l"
      },
      "source": [
        "Puedo Crear Funciones:"
      ]
    },
    {
      "cell_type": "code",
      "metadata": {
        "id": "ztEkWACW6fL5"
      },
      "source": [
        "def input_print():\n",
        "  num = input(\"Ingrese un número:\")\n",
        "  print(\"\\nEl número ingresado es:\",num)"
      ],
      "execution_count": 3,
      "outputs": []
    },
    {
      "cell_type": "code",
      "metadata": {
        "colab": {
          "base_uri": "https://localhost:8080/"
        },
        "id": "2lm_y-7s6sRI",
        "outputId": "fc1d6c04-1caa-4407-bc83-72fee37f4518"
      },
      "source": [
        "input_print()"
      ],
      "execution_count": 4,
      "outputs": [
        {
          "output_type": "stream",
          "text": [
            "Ingrese un número:7433\n",
            "\n",
            "El número ingresado es: 7433\n"
          ],
          "name": "stdout"
        }
      ]
    },
    {
      "cell_type": "markdown",
      "metadata": {
        "id": "cd4IZwwm7g7a"
      },
      "source": [
        "## Ejemplo Completo:"
      ]
    },
    {
      "cell_type": "markdown",
      "metadata": {
        "id": "PK4I9-5j6vFC"
      },
      "source": [
        "Colab es muy interesante cuando integro el código con el texto, ya que puedo ir explicando lo que hago y crear un ***Informe con Código*** en un mismo sitio"
      ]
    },
    {
      "cell_type": "markdown",
      "metadata": {
        "id": "-B6-16dp6-1X"
      },
      "source": [
        "**Ejercicio**\n",
        "\n",
        "Programa que pregunte al usuario por dos números enteros y muestre:\n",
        "* La última cifra de cada número.\n",
        "* La multiplicación de estas últimas cifras. \n"
      ]
    },
    {
      "cell_type": "markdown",
      "metadata": {
        "id": "jIzQ2VNF87V8"
      },
      "source": [
        "---\n",
        "**Solución:**\n",
        "\n",
        "En Primer Lugar, analizamos las partes del problema al que no enfrentamos. Lo que podemos notar es que debemos solucionar las siguientes pequeñas partes en el problema:\n",
        "\n",
        "* Pedir dos números al usuario\n",
        "* Obtener última cifra de los número ingresados\n",
        "* Multiplicar las últimas cifras\n",
        "* Mostrar Resultados\n",
        "\n"
      ]
    },
    {
      "cell_type": "markdown",
      "metadata": {
        "id": "RzKvpI_UIzN0"
      },
      "source": [
        "### Paso a Paso"
      ]
    },
    {
      "cell_type": "markdown",
      "metadata": {
        "id": "DmpFXmWs-Q-J"
      },
      "source": [
        "#### Pedir Numeros al Usuario:"
      ]
    },
    {
      "cell_type": "code",
      "metadata": {
        "colab": {
          "base_uri": "https://localhost:8080/"
        },
        "id": "cy6ZCu5u-bMd",
        "outputId": "a959eba5-1e0a-4dc4-ca76-df2beba66d0b"
      },
      "source": [
        "num1 = int(input('Ingrese el primer número: '))\n",
        "num2 = int(input('Ingrese el segundo número: '))"
      ],
      "execution_count": 5,
      "outputs": [
        {
          "output_type": "stream",
          "text": [
            "Ingrese el primer número: 89\n",
            "Ingrese el segundo número: 32\n"
          ],
          "name": "stdout"
        }
      ]
    },
    {
      "cell_type": "markdown",
      "metadata": {
        "id": "J3FJjson-thX"
      },
      "source": [
        "#### Obtener Últimas Cifras:"
      ]
    },
    {
      "cell_type": "markdown",
      "metadata": {
        "id": "Hy9nBzfG_cTV"
      },
      "source": [
        "Para facilidad, crearemos una función que nos permita obtener la última cifra de cualquier número:"
      ]
    },
    {
      "cell_type": "code",
      "metadata": {
        "id": "tzTwbuaT-2p3"
      },
      "source": [
        "def ult_cifra(num):\n",
        "  if(num < 0):\n",
        "    ult_num = -1*(num%-10)\n",
        "  else:\n",
        "    ult_num = num%10\n",
        "  \n",
        "  return ult_num"
      ],
      "execution_count": 7,
      "outputs": []
    },
    {
      "cell_type": "markdown",
      "metadata": {
        "id": "R3fOSKnH_ti3"
      },
      "source": [
        "En la función, podemos ver que nos valemos del operador **Modulo** con el que obtenemos el residuo o resto de una división:\n",
        "\n",
        "<br>\n",
        "\n",
        "<center><img src='data:image/jpeg;base64,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'> </center>\n",
        "\n",
        "Además, vale la pena recordar que el módulo con 10 para cualquier número nos dará el valor de la última cifra:\n",
        "\n",
        "<br>\n",
        "<center>\n",
        "\n",
        "![](https://drive.google.com/uc?export=view&id=1eXM0vXPRAGvlY02JNa42pYZUECHymjMb)\n",
        "\n",
        "</center>"
      ]
    },
    {
      "cell_type": "code",
      "metadata": {
        "colab": {
          "base_uri": "https://localhost:8080/"
        },
        "id": "zoCz2Gkb_WJI",
        "outputId": "ef572849-ada5-46ba-a1f4-4ca9b672e572"
      },
      "source": [
        "ult_num1 = ult_cifra(num1)\n",
        "print(\"La última cifra de\",num1,\"es:\",ult_num1)\n",
        "\n",
        "ult_num2 = ult_cifra(num2)\n",
        "print(\"La última cifra de\",num2,\"es:\",ult_num2)"
      ],
      "execution_count": 8,
      "outputs": [
        {
          "output_type": "stream",
          "text": [
            "La última cifra de 89 es: 9\n",
            "La última cifra de 32 es: 2\n"
          ],
          "name": "stdout"
        }
      ]
    },
    {
      "cell_type": "markdown",
      "metadata": {
        "id": "m58RYE0jHbOc"
      },
      "source": [
        "#### Multiplicación y Resultado:"
      ]
    },
    {
      "cell_type": "code",
      "metadata": {
        "colab": {
          "base_uri": "https://localhost:8080/"
        },
        "id": "IsSP0V8MHtDA",
        "outputId": "0532512e-dac0-4b74-9228-a045803cd663"
      },
      "source": [
        "mult = ult_num1 * ult_num2\n",
        "\n",
        "print(\"La ultima cifra de\",num1,\"es\",ult_num1)\n",
        "print(\"La última cifra de\",num2,\"es\",ult_num2)\n",
        "print('\\nla multiplicación entre ',ult_num1,' y ',ult_num2,' es:',mult)"
      ],
      "execution_count": 9,
      "outputs": [
        {
          "output_type": "stream",
          "text": [
            "La ultima cifra de 89 es 9\n",
            "La última cifra de 32 es 2\n",
            "\n",
            "la multiplicación entre  9  y  2  es: 18\n"
          ],
          "name": "stdout"
        }
      ]
    },
    {
      "cell_type": "markdown",
      "metadata": {
        "id": "0M_hPmquI_Zu"
      },
      "source": [
        "### Único Bloque:\n"
      ]
    },
    {
      "cell_type": "markdown",
      "metadata": {
        "id": "5HB_LN9RJRRE"
      },
      "source": [
        "Otra opción que tenemos, que es mejor a la hora de ejecutar el código completo, es escribir todo en una sola celda y utilizar comentarios para dividir:"
      ]
    },
    {
      "cell_type": "code",
      "metadata": {
        "colab": {
          "base_uri": "https://localhost:8080/"
        },
        "id": "AzpRRSJwJGd-",
        "outputId": "2cf8f3ed-64c3-4af0-d10f-e8c451062094"
      },
      "source": [
        "#Recibir Números\n",
        "num1 = int(input('Ingrese el primer número: '))\n",
        "num2 = int(input('Ingrese el segundo número: '))\n",
        "\n",
        "#Función para calcular última cifra\n",
        "def ult_cifra(num):\n",
        "  if(num < 0):\n",
        "    ult_num = -1*(num%-10)\n",
        "  else:\n",
        "    ult_num = num%10\n",
        "  \n",
        "  return ult_num\n",
        "\n",
        "#Cálculo últimas cifras\n",
        "ult_num1 = ult_cifra(num1)\n",
        "ult_num2 = ult_cifra(num2)\n",
        "\n",
        "#Multiplicación de ultimas cifras:\n",
        "mult = ult_num1 * ult_num2\n",
        "\n",
        "#Resultados\n",
        "print(\"\\nLa ultima cifra de\",num1,\"es\",ult_num1)\n",
        "print(\"La última cifra de\",num2,\"es\",ult_num2)\n",
        "print('\\nla multiplicación entre ',ult_num1,' y ',ult_num2,' es:',mult)"
      ],
      "execution_count": 10,
      "outputs": [
        {
          "output_type": "stream",
          "text": [
            "Ingrese el primer número: 53\n",
            "Ingrese el segundo número: 245\n",
            "\n",
            "La ultima cifra de 53 es 3\n",
            "La última cifra de 245 es 5\n",
            "\n",
            "la multiplicación entre  3  y  5  es: 15\n"
          ],
          "name": "stdout"
        }
      ]
    },
    {
      "cell_type": "code",
      "metadata": {
        "id": "guuvEVhUJOA2"
      },
      "source": [
        ""
      ],
      "execution_count": null,
      "outputs": []
    },
    {
      "cell_type": "markdown",
      "metadata": {
        "id": "jDmlUfjNMYZr"
      },
      "source": [
        "## Consideraciones Importante"
      ]
    },
    {
      "cell_type": "markdown",
      "metadata": {
        "id": "IV8WfeMsMbTB"
      },
      "source": [
        "De lo que se ha visto, se puede concluir entonces que Google Colab y los Jupyter Notebooks son muy interesantes para las siguientes ocaciones:\n",
        "\n",
        "* Informes acompañados de Código\n",
        "\n",
        "* Usos de Python y Colab un poco más especializados y completos\n",
        "\n",
        "* Códigos o esquemas de trabajo donde no es importante correr todo de manera conjunta y con opciones dinámicas (entrada de datos por teclado)"
      ]
    },
    {
      "cell_type": "markdown",
      "metadata": {
        "id": "duPskQc3M6zz"
      },
      "source": [
        "Así, se invita al lector a que pueda explorar por si mismo Google Colab y que descubra hasta que punto puede utilizarlo, realmente es una herramienta bastante amplia, dinámica y últil."
      ]
    },
    {
      "cell_type": "code",
      "metadata": {
        "id": "EAKqJNC-NNeo"
      },
      "source": [
        ""
      ],
      "execution_count": null,
      "outputs": []
    }
  ]
}